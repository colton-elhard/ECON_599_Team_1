{
 "cells": [
  {
   "cell_type": "code",
   "execution_count": 1,
   "metadata": {},
   "outputs": [],
   "source": [
    "import pandas as pd\n",
    "import numpy as np\n",
    "import matplotlib.pyplot as plt\n",
    "import plotly.express as px"
   ]
  },
  {
   "cell_type": "code",
   "execution_count": 2,
   "metadata": {},
   "outputs": [],
   "source": [
    "# Reading in temps data\n",
    "temps = pd.read_excel(\"original data/Temps Data full.xls\", sheet_name = None)\n",
    "frames = [df for sheet, df in temps.items()]\n",
    "temps_full = pd.concat(frames)"
   ]
  },
  {
   "cell_type": "code",
   "execution_count": 3,
   "metadata": {},
   "outputs": [
    {
     "data": {
      "text/plain": [
       "array(['EC - Calgary Temp', 'EC - Fort McMurray Temp',\n",
       "       'EC - Lethbridge Temp', 'EC - Edmonton Temp'], dtype=object)"
      ]
     },
     "execution_count": 3,
     "metadata": {},
     "output_type": "execute_result"
    }
   ],
   "source": [
    "pd.unique(temps_full[\"NRG_STREAM_NAME\"])"
   ]
  },
  {
   "cell_type": "code",
   "execution_count": 4,
   "metadata": {},
   "outputs": [],
   "source": [
    "yyc_temp = temps_full[temps_full[\"NRG_STREAM_NAME\"] == \"EC - Calgary Temp\"]\n",
    "\n",
    "fort_temp = temps_full[temps_full[\"NRG_STREAM_NAME\"] == \"EC - Fort McMurray Temp\"]\n",
    "\n",
    "lethbridge_temp = temps_full[temps_full[\"NRG_STREAM_NAME\"] == 'EC - Lethbridge Temp']\n",
    "\n",
    "edmonton_temp = temps_full[temps_full[\"NRG_STREAM_NAME\"] == 'EC - Edmonton Temp']"
   ]
  },
  {
   "cell_type": "code",
   "execution_count": 5,
   "metadata": {},
   "outputs": [
    {
     "data": {
      "image/png": "[encoded data removed]",
      "text/plain": [
       "<Figure size 432x288 with 1 Axes>"
      ]
     },
     "metadata": {
      "needs_background": "light"
     },
     "output_type": "display_data"
    }
   ],
   "source": [
    "bins = np.linspace(-60, 40, 50)\n",
    "\n",
    "\n",
    "plt.hist(edmonton_temp[\"TEMP_CELSIUS\"], \n",
    "         histtype= 'step', label='Edmonton')\n",
    "\n",
    "plt.hist(yyc_temp[\"TEMP_CELSIUS\"], histtype= 'step', label='Calgary')\n",
    "plt.hist(fort_temp[\"TEMP_CELSIUS\"],  histtype= 'step', label='Fort M')\n",
    "plt.hist(lethbridge_temp[\"TEMP_CELSIUS\"],  histtype= 'step', label='Lethbridge')\n",
    "plt.legend(loc='upper right')\n",
    "plt.show()"
   ]
  },
  {
   "cell_type": "code",
   "execution_count": 7,
   "metadata": {},
   "outputs": [],
   "source": [
    "full_time = pd.DataFrame( pd.date_range(start='2010-01-01 07:00:00', end = '2021-01-05 07:00:00', freq='H'), \n",
    "                         columns = [\"FULL_BEGIN_DATE_GMT\"] )\n",
    "\n",
    "def merge_full_time(df, full_time):\n",
    "    return full_time.merge(df, how =\"left\",\n",
    "                           left_on =  \"FULL_BEGIN_DATE_GMT\",\n",
    "                           right_on = \"BEGIN_DATE_GMT\")\n"
   ]
  },
  {
   "cell_type": "code",
   "execution_count": 8,
   "metadata": {},
   "outputs": [],
   "source": [
    "yyc_temp = merge_full_time(yyc_temp, full_time)\n",
    "fort_temp = merge_full_time(fort_temp, full_time)\n",
    "lethbridge_temp =  merge_full_time(lethbridge_temp, full_time)\n",
    "edmonton_temp =  merge_full_time(edmonton_temp, full_time)"
   ]
  },
  {
   "cell_type": "code",
   "execution_count": 9,
   "metadata": {},
   "outputs": [
    {
     "data": {
      "text/html": [
       "<div>\n",
       "<style scoped>\n",
       "    .dataframe tbody tr th:only-of-type {\n",
       "        vertical-align: middle;\n",
       "    }\n",
       "\n",
       "    .dataframe tbody tr th {\n",
       "        vertical-align: top;\n",
       "    }\n",
       "\n",
       "    .dataframe thead th {\n",
       "        text-align: right;\n",
       "    }\n",
       "</style>\n",
       "<table border=\"1\" class=\"dataframe\">\n",
       "  <thead>\n",
       "    <tr style=\"text-align: right;\">\n",
       "      <th></th>\n",
       "      <th>FULL_BEGIN_DATE_GMT</th>\n",
       "      <th>BEGIN_DATE_GMT</th>\n",
       "      <th>END_DATE_GMT</th>\n",
       "      <th>SOURCE_DATETIME</th>\n",
       "      <th>SOURCE_TIMEZONE</th>\n",
       "      <th>NRG_STREAM_NAME</th>\n",
       "      <th>TEMP_CELSIUS</th>\n",
       "      <th>VERSION_BEGIN_LOCAL</th>\n",
       "      <th>VERSION_END_LOCAL</th>\n",
       "    </tr>\n",
       "  </thead>\n",
       "  <tbody>\n",
       "    <tr>\n",
       "      <td>0</td>\n",
       "      <td>2010-01-01 07:00:00</td>\n",
       "      <td>2010-01-01 07:00:00</td>\n",
       "      <td>2010-01-01 08:00:00</td>\n",
       "      <td>2010-01-01 00:00:00</td>\n",
       "      <td>MST</td>\n",
       "      <td>EC - Calgary Temp</td>\n",
       "      <td>-21.7</td>\n",
       "      <td>2020-03-02 09:02:14</td>\n",
       "      <td>NaN</td>\n",
       "    </tr>\n",
       "    <tr>\n",
       "      <td>1</td>\n",
       "      <td>2010-01-01 08:00:00</td>\n",
       "      <td>2010-01-01 08:00:00</td>\n",
       "      <td>2010-01-01 09:00:00</td>\n",
       "      <td>2010-01-01 01:00:00</td>\n",
       "      <td>MST</td>\n",
       "      <td>EC - Calgary Temp</td>\n",
       "      <td>-21.3</td>\n",
       "      <td>2020-03-02 09:02:14</td>\n",
       "      <td>NaN</td>\n",
       "    </tr>\n",
       "    <tr>\n",
       "      <td>2</td>\n",
       "      <td>2010-01-01 09:00:00</td>\n",
       "      <td>2010-01-01 09:00:00</td>\n",
       "      <td>2010-01-01 10:00:00</td>\n",
       "      <td>2010-01-01 02:00:00</td>\n",
       "      <td>MST</td>\n",
       "      <td>EC - Calgary Temp</td>\n",
       "      <td>-21.0</td>\n",
       "      <td>2020-03-02 09:02:14</td>\n",
       "      <td>NaN</td>\n",
       "    </tr>\n",
       "    <tr>\n",
       "      <td>3</td>\n",
       "      <td>2010-01-01 10:00:00</td>\n",
       "      <td>2010-01-01 10:00:00</td>\n",
       "      <td>2010-01-01 11:00:00</td>\n",
       "      <td>2010-01-01 03:00:00</td>\n",
       "      <td>MST</td>\n",
       "      <td>EC - Calgary Temp</td>\n",
       "      <td>-20.4</td>\n",
       "      <td>2020-03-02 09:02:14</td>\n",
       "      <td>NaN</td>\n",
       "    </tr>\n",
       "    <tr>\n",
       "      <td>4</td>\n",
       "      <td>2010-01-01 11:00:00</td>\n",
       "      <td>2010-01-01 11:00:00</td>\n",
       "      <td>2010-01-01 12:00:00</td>\n",
       "      <td>2010-01-01 04:00:00</td>\n",
       "      <td>MST</td>\n",
       "      <td>EC - Calgary Temp</td>\n",
       "      <td>-20.4</td>\n",
       "      <td>2020-03-02 09:02:14</td>\n",
       "      <td>NaN</td>\n",
       "    </tr>\n",
       "  </tbody>\n",
       "</table>\n",
       "</div>"
      ],
      "text/plain": [
       "  FULL_BEGIN_DATE_GMT      BEGIN_DATE_GMT        END_DATE_GMT  \\\n",
       "0 2010-01-01 07:00:00 2010-01-01 07:00:00 2010-01-01 08:00:00   \n",
       "1 2010-01-01 08:00:00 2010-01-01 08:00:00 2010-01-01 09:00:00   \n",
       "2 2010-01-01 09:00:00 2010-01-01 09:00:00 2010-01-01 10:00:00   \n",
       "3 2010-01-01 10:00:00 2010-01-01 10:00:00 2010-01-01 11:00:00   \n",
       "4 2010-01-01 11:00:00 2010-01-01 11:00:00 2010-01-01 12:00:00   \n",
       "\n",
       "      SOURCE_DATETIME SOURCE_TIMEZONE    NRG_STREAM_NAME  TEMP_CELSIUS  \\\n",
       "0 2010-01-01 00:00:00             MST  EC - Calgary Temp         -21.7   \n",
       "1 2010-01-01 01:00:00             MST  EC - Calgary Temp         -21.3   \n",
       "2 2010-01-01 02:00:00             MST  EC - Calgary Temp         -21.0   \n",
       "3 2010-01-01 03:00:00             MST  EC - Calgary Temp         -20.4   \n",
       "4 2010-01-01 04:00:00             MST  EC - Calgary Temp         -20.4   \n",
       "\n",
       "  VERSION_BEGIN_LOCAL  VERSION_END_LOCAL  \n",
       "0 2020-03-02 09:02:14                NaN  \n",
       "1 2020-03-02 09:02:14                NaN  \n",
       "2 2020-03-02 09:02:14                NaN  \n",
       "3 2020-03-02 09:02:14                NaN  \n",
       "4 2020-03-02 09:02:14                NaN  "
      ]
     },
     "execution_count": 9,
     "metadata": {},
     "output_type": "execute_result"
    }
   ],
   "source": [
    "yyc_temp.head()"
   ]
  },
  {
   "cell_type": "code",
   "execution_count": 10,
   "metadata": {},
   "outputs": [
    {
     "name": "stdout",
     "output_type": "stream",
     "text": [
      "(44,)\n",
      "(40,)\n",
      "(232,)\n",
      "(44,)\n"
     ]
    }
   ],
   "source": [
    "yyc_na = yyc_temp[ pd.isna(yyc_temp[\"TEMP_CELSIUS\"])][\"FULL_BEGIN_DATE_GMT\"]\n",
    "fmm_na = fort_temp[ pd.isna(fort_temp[\"TEMP_CELSIUS\"])][\"FULL_BEGIN_DATE_GMT\"]\n",
    "lb_na = lethbridge_temp[pd.isna(lethbridge_temp[\"TEMP_CELSIUS\"])][\"FULL_BEGIN_DATE_GMT\"]\n",
    "edm_na = edmonton_temp[ pd.isna(edmonton_temp[\"TEMP_CELSIUS\"])][\"FULL_BEGIN_DATE_GMT\"]\n",
    "\n",
    "for df in [yyc_na, fmm_na, lb_na, edm_na]:\n",
    "    print( df.shape ) "
   ]
  },
  {
   "cell_type": "code",
   "execution_count": 13,
   "metadata": {},
   "outputs": [
    {
     "data": {
      "image/png": "[encoded data removed]",
      "text/plain": [
       "<Figure size 432x288 with 1 Axes>"
      ]
     },
     "metadata": {
      "needs_background": "light"
     },
     "output_type": "display_data"
    }
   ],
   "source": [
    "bins = np.linspace(-60, 40, 50)\n",
    "plt.hist(yyc_na, \n",
    "         histtype= 'step', label='Calgary')\n",
    "plt.hist(fmm_na,  \n",
    "         histtype= 'step', label='Fort M')\n",
    "plt.hist(lb_na,  \n",
    "         histtype= 'step', label='Lethbridge')\n",
    "plt.hist(edm_na, \n",
    "         histtype= 'step', label='Edmonton')\n",
    "plt.legend(loc='upper right')\n",
    "plt.show()"
   ]
  },
  {
   "cell_type": "code",
   "execution_count": 21,
   "metadata": {},
   "outputs": [
    {
     "data": {
      "application/vnd.plotly.v1+json": {
       "config": {
        "plotlyServerURL": "https://plot.ly"
       },
       "data": [
        {
         "hovertemplate": "x=%{x}<br>y=%{y}<extra></extra>",
         "legendgroup": "",
         "marker": {
          "color": "#636efa",
          "symbol": "circle"
         },
         "mode": "markers",
         "name": "",
         "orientation": "v",
         "showlegend": false,
         "type": "scatter",
         "x": [
          "2010-01-20T18:00:00",
          "2011-02-03T12:00:00",
          "2012-07-11T06:00:00",
          "2012-07-11T07:00:00",
          "2012-07-11T08:00:00",
          "2012-07-11T09:00:00",
          "2012-07-11T10:00:00",
          "2012-07-11T11:00:00",
          "2012-07-15T20:00:00",
          "2012-07-18T21:00:00",
          "2012-07-18T22:00:00",
          "2012-07-18T23:00:00",
          "2012-07-19T00:00:00",
          "2012-07-19T01:00:00",
          "2012-08-11T09:00:00",
          "2012-08-28T21:00:00",
          "2012-09-07T06:00:00",
          "2012-10-10T09:00:00",
          "2012-10-10T10:00:00",
          "2012-10-10T11:00:00",
          "2012-11-08T12:00:00",
          "2013-01-16T12:00:00",
          "2013-04-02T19:00:00",
          "2013-04-14T06:00:00",
          "2013-04-14T07:00:00",
          "2013-04-14T08:00:00",
          "2013-04-14T09:00:00",
          "2013-04-14T10:00:00",
          "2013-04-15T06:00:00",
          "2013-04-15T07:00:00",
          "2013-04-15T08:00:00",
          "2013-04-15T09:00:00",
          "2013-04-15T10:00:00",
          "2013-05-06T18:00:00",
          "2013-06-22T06:00:00",
          "2013-06-22T07:00:00",
          "2013-06-22T08:00:00",
          "2013-06-22T09:00:00",
          "2013-06-22T10:00:00",
          "2013-09-01T19:00:00",
          "2013-10-03T06:00:00",
          "2013-10-03T07:00:00",
          "2013-10-03T08:00:00",
          "2013-10-03T09:00:00",
          "2013-10-03T10:00:00",
          "2013-10-04T06:00:00",
          "2013-10-04T07:00:00",
          "2013-10-04T08:00:00",
          "2013-10-04T09:00:00",
          "2013-10-04T10:00:00",
          "2013-10-05T06:00:00",
          "2013-10-05T07:00:00",
          "2013-10-05T08:00:00",
          "2013-10-05T09:00:00",
          "2013-10-05T10:00:00",
          "2013-10-06T06:00:00",
          "2013-10-06T07:00:00",
          "2013-10-06T08:00:00",
          "2013-10-06T09:00:00",
          "2013-10-06T10:00:00",
          "2013-10-07T06:00:00",
          "2013-10-07T07:00:00",
          "2013-10-07T08:00:00",
          "2013-10-07T09:00:00",
          "2013-10-07T10:00:00",
          "2013-10-30T10:00:00",
          "2013-11-03T08:00:00",
          "2013-11-28T20:00:00",
          "2013-11-28T21:00:00",
          "2013-12-14T14:00:00",
          "2013-12-14T15:00:00",
          "2013-12-14T16:00:00",
          "2013-12-14T17:00:00",
          "2013-12-23T13:00:00",
          "2016-01-12T08:00:00",
          "2016-10-28T07:00:00",
          "2016-12-18T07:00:00",
          "2016-12-18T08:00:00",
          "2016-12-18T09:00:00",
          "2016-12-18T10:00:00",
          "2016-12-18T11:00:00",
          "2016-12-18T12:00:00",
          "2016-12-19T07:00:00",
          "2016-12-19T08:00:00",
          "2016-12-19T09:00:00",
          "2016-12-19T10:00:00",
          "2016-12-19T11:00:00",
          "2016-12-19T12:00:00",
          "2017-05-27T11:00:00",
          "2017-06-05T04:00:00",
          "2017-06-05T05:00:00",
          "2017-06-05T06:00:00",
          "2017-06-05T07:00:00",
          "2017-06-05T08:00:00",
          "2017-06-05T09:00:00",
          "2017-06-05T10:00:00",
          "2017-07-15T08:00:00",
          "2018-07-07T05:00:00",
          "2020-04-06T06:00:00",
          "2020-07-29T08:00:00",
          "2020-08-05T06:00:00",
          "2020-08-05T07:00:00",
          "2020-08-05T08:00:00",
          "2020-08-05T09:00:00",
          "2020-08-05T10:00:00",
          "2020-11-01T08:00:00"
         ],
         "xaxis": "x",
         "y": [
          1,
          1,
          1,
          1,
          1,
          1,
          1,
          1,
          1,
          1,
          1,
          1,
          1,
          1,
          1,
          1,
          1,
          1,
          1,
          1,
          1,
          1,
          1,
          1,
          1,
          1,
          1,
          1,
          1,
          1,
          1,
          1,
          1,
          1,
          1,
          1,
          1,
          1,
          1,
          1,
          1,
          1,
          1,
          1,
          1,
          1,
          1,
          1,
          1,
          1,
          1,
          1,
          1,
          1,
          1,
          1,
          1,
          1,
          1,
          1,
          1,
          1,
          1,
          1,
          1,
          1,
          1,
          1,
          1,
          1,
          1,
          1,
          1,
          1,
          1,
          1,
          1,
          1,
          1,
          1,
          1,
          1,
          1,
          1,
          1,
          1,
          1,
          1,
          1,
          1,
          1,
          1,
          1,
          1,
          1,
          1,
          1,
          1,
          1,
          1,
          1,
          1,
          1,
          1,
          1,
          1
         ],
         "yaxis": "y"
        }
       ],
       "layout": {
        "legend": {
         "tracegroupgap": 0
        },
        "margin": {
         "t": 60
        },
        "template": {
         "data": {
          "bar": [
           {
            "error_x": {
             "color": "#2a3f5f"
            },
            "error_y": {
             "color": "#2a3f5f"
            },
            "marker": {
             "line": {
              "color": "#E5ECF6",
              "width": 0.5
             }
            },
            "type": "bar"
           }
          ],
          "barpolar": [
           {
            "marker": {
             "line": {
              "color": "#E5ECF6",
              "width": 0.5
             }
            },
            "type": "barpolar"
           }
          ],
          "carpet": [
           {
            "aaxis": {
             "endlinecolor": "#2a3f5f",
             "gridcolor": "white",
             "linecolor": "white",
             "minorgridcolor": "white",
             "startlinecolor": "#2a3f5f"
            },
            "baxis": {
             "endlinecolor": "#2a3f5f",
             "gridcolor": "white",
             "linecolor": "white",
             "minorgridcolor": "white",
             "startlinecolor": "#2a3f5f"
            },
            "type": "carpet"
           }
          ],
          "choropleth": [
           {
            "colorbar": {
             "outlinewidth": 0,
             "ticks": ""
            },
            "type": "choropleth"
           }
          ],
          "contour": [
           {
            "colorbar": {
             "outlinewidth": 0,
             "ticks": ""
            },
            "colorscale": [
             [
              0,
              "#0d0887"
             ],
             [
              0.1111111111111111,
              "#46039f"
             ],
             [
              0.2222222222222222,
              "#7201a8"
             ],
             [
              0.3333333333333333,
              "#9c179e"
             ],
             [
              0.4444444444444444,
              "#bd3786"
             ],
             [
              0.5555555555555556,
              "#d8576b"
             ],
             [
              0.6666666666666666,
              "#ed7953"
             ],
             [
              0.7777777777777778,
              "#fb9f3a"
             ],
             [
              0.8888888888888888,
              "#fdca26"
             ],
             [
              1,
              "#f0f921"
             ]
            ],
            "type": "contour"
           }
          ],
          "contourcarpet": [
           {
            "colorbar": {
             "outlinewidth": 0,
             "ticks": ""
            },
            "type": "contourcarpet"
           }
          ],
          "heatmap": [
           {
            "colorbar": {
             "outlinewidth": 0,
             "ticks": ""
            },
            "colorscale": [
             [
              0,
              "#0d0887"
             ],
             [
              0.1111111111111111,
              "#46039f"
             ],
             [
              0.2222222222222222,
              "#7201a8"
             ],
             [
              0.3333333333333333,
              "#9c179e"
             ],
             [
              0.4444444444444444,
              "#bd3786"
             ],
             [
              0.5555555555555556,
              "#d8576b"
             ],
             [
              0.6666666666666666,
              "#ed7953"
             ],
             [
              0.7777777777777778,
              "#fb9f3a"
             ],
             [
              0.8888888888888888,
              "#fdca26"
             ],
             [
              1,
              "#f0f921"
             ]
            ],
            "type": "heatmap"
           }
          ],
          "heatmapgl": [
           {
            "colorbar": {
             "outlinewidth": 0,
             "ticks": ""
            },
            "colorscale": [
             [
              0,
              "#0d0887"
             ],
             [
              0.1111111111111111,
              "#46039f"
             ],
             [
              0.2222222222222222,
              "#7201a8"
             ],
             [
              0.3333333333333333,
              "#9c179e"
             ],
             [
              0.4444444444444444,
              "#bd3786"
             ],
             [
              0.5555555555555556,
              "#d8576b"
             ],
             [
              0.6666666666666666,
              "#ed7953"
             ],
             [
              0.7777777777777778,
              "#fb9f3a"
             ],
             [
              0.8888888888888888,
              "#fdca26"
             ],
             [
              1,
              "#f0f921"
             ]
            ],
            "type": "heatmapgl"
           }
          ],
          "histogram": [
           {
            "marker": {
             "colorbar": {
              "outlinewidth": 0,
              "ticks": ""
             }
            },
            "type": "histogram"
           }
          ],
          "histogram2d": [
           {
            "colorbar": {
             "outlinewidth": 0,
             "ticks": ""
            },
            "colorscale": [
             [
              0,
              "#0d0887"
             ],
             [
              0.1111111111111111,
              "#46039f"
             ],
             [
              0.2222222222222222,
              "#7201a8"
             ],
             [
              0.3333333333333333,
              "#9c179e"
             ],
             [
              0.4444444444444444,
              "#bd3786"
             ],
             [
              0.5555555555555556,
              "#d8576b"
             ],
             [
              0.6666666666666666,
              "#ed7953"
             ],
             [
              0.7777777777777778,
              "#fb9f3a"
             ],
             [
              0.8888888888888888,
              "#fdca26"
             ],
             [
              1,
              "#f0f921"
             ]
            ],
            "type": "histogram2d"
           }
          ],
          "histogram2dcontour": [
           {
            "colorbar": {
             "outlinewidth": 0,
             "ticks": ""
            },
            "colorscale": [
             [
              0,
              "#0d0887"
             ],
             [
              0.1111111111111111,
              "#46039f"
             ],
             [
              0.2222222222222222,
              "#7201a8"
             ],
             [
              0.3333333333333333,
              "#9c179e"
             ],
             [
              0.4444444444444444,
              "#bd3786"
             ],
             [
              0.5555555555555556,
              "#d8576b"
             ],
             [
              0.6666666666666666,
              "#ed7953"
             ],
             [
              0.7777777777777778,
              "#fb9f3a"
             ],
             [
              0.8888888888888888,
              "#fdca26"
             ],
             [
              1,
              "#f0f921"
             ]
            ],
            "type": "histogram2dcontour"
           }
          ],
          "mesh3d": [
           {
            "colorbar": {
             "outlinewidth": 0,
             "ticks": ""
            },
            "type": "mesh3d"
           }
          ],
          "parcoords": [
           {
            "line": {
             "colorbar": {
              "outlinewidth": 0,
              "ticks": ""
             }
            },
            "type": "parcoords"
           }
          ],
          "pie": [
           {
            "automargin": true,
            "type": "pie"
           }
          ],
          "scatter": [
           {
            "marker": {
             "colorbar": {
              "outlinewidth": 0,
              "ticks": ""
             }
            },
            "type": "scatter"
           }
          ],
          "scatter3d": [
           {
            "line": {
             "colorbar": {
              "outlinewidth": 0,
              "ticks": ""
             }
            },
            "marker": {
             "colorbar": {
              "outlinewidth": 0,
              "ticks": ""
             }
            },
            "type": "scatter3d"
           }
          ],
          "scattercarpet": [
           {
            "marker": {
             "colorbar": {
              "outlinewidth": 0,
              "ticks": ""
             }
            },
            "type": "scattercarpet"
           }
          ],
          "scattergeo": [
           {
            "marker": {
             "colorbar": {
              "outlinewidth": 0,
              "ticks": ""
             }
            },
            "type": "scattergeo"
           }
          ],
          "scattergl": [
           {
            "marker": {
             "colorbar": {
              "outlinewidth": 0,
              "ticks": ""
             }
            },
            "type": "scattergl"
           }
          ],
          "scattermapbox": [
           {
            "marker": {
             "colorbar": {
              "outlinewidth": 0,
              "ticks": ""
             }
            },
            "type": "scattermapbox"
           }
          ],
          "scatterpolar": [
           {
            "marker": {
             "colorbar": {
              "outlinewidth": 0,
              "ticks": ""
             }
            },
            "type": "scatterpolar"
           }
          ],
          "scatterpolargl": [
           {
            "marker": {
             "colorbar": {
              "outlinewidth": 0,
              "ticks": ""
             }
            },
            "type": "scatterpolargl"
           }
          ],
          "scatterternary": [
           {
            "marker": {
             "colorbar": {
              "outlinewidth": 0,
              "ticks": ""
             }
            },
            "type": "scatterternary"
           }
          ],
          "surface": [
           {
            "colorbar": {
             "outlinewidth": 0,
             "ticks": ""
            },
            "colorscale": [
             [
              0,
              "#0d0887"
             ],
             [
              0.1111111111111111,
              "#46039f"
             ],
             [
              0.2222222222222222,
              "#7201a8"
             ],
             [
              0.3333333333333333,
              "#9c179e"
             ],
             [
              0.4444444444444444,
              "#bd3786"
             ],
             [
              0.5555555555555556,
              "#d8576b"
             ],
             [
              0.6666666666666666,
              "#ed7953"
             ],
             [
              0.7777777777777778,
              "#fb9f3a"
             ],
             [
              0.8888888888888888,
              "#fdca26"
             ],
             [
              1,
              "#f0f921"
             ]
            ],
            "type": "surface"
           }
          ],
          "table": [
           {
            "cells": {
             "fill": {
              "color": "#EBF0F8"
             },
             "line": {
              "color": "white"
             }
            },
            "header": {
             "fill": {
              "color": "#C8D4E3"
             },
             "line": {
              "color": "white"
             }
            },
            "type": "table"
           }
          ]
         },
         "layout": {
          "annotationdefaults": {
           "arrowcolor": "#2a3f5f",
           "arrowhead": 0,
           "arrowwidth": 1
          },
          "coloraxis": {
           "colorbar": {
            "outlinewidth": 0,
            "ticks": ""
           }
          },
          "colorscale": {
           "diverging": [
            [
             0,
             "#8e0152"
            ],
            [
             0.1,
             "#c51b7d"
            ],
            [
             0.2,
             "#de77ae"
            ],
            [
             0.3,
             "#f1b6da"
            ],
            [
             0.4,
             "#fde0ef"
            ],
            [
             0.5,
             "#f7f7f7"
            ],
            [
             0.6,
             "#e6f5d0"
            ],
            [
             0.7,
             "#b8e186"
            ],
            [
             0.8,
             "#7fbc41"
            ],
            [
             0.9,
             "#4d9221"
            ],
            [
             1,
             "#276419"
            ]
           ],
           "sequential": [
            [
             0,
             "#0d0887"
            ],
            [
             0.1111111111111111,
             "#46039f"
            ],
            [
             0.2222222222222222,
             "#7201a8"
            ],
            [
             0.3333333333333333,
             "#9c179e"
            ],
            [
             0.4444444444444444,
             "#bd3786"
            ],
            [
             0.5555555555555556,
             "#d8576b"
            ],
            [
             0.6666666666666666,
             "#ed7953"
            ],
            [
             0.7777777777777778,
             "#fb9f3a"
            ],
            [
             0.8888888888888888,
             "#fdca26"
            ],
            [
             1,
             "#f0f921"
            ]
           ],
           "sequentialminus": [
            [
             0,
             "#0d0887"
            ],
            [
             0.1111111111111111,
             "#46039f"
            ],
            [
             0.2222222222222222,
             "#7201a8"
            ],
            [
             0.3333333333333333,
             "#9c179e"
            ],
            [
             0.4444444444444444,
             "#bd3786"
            ],
            [
             0.5555555555555556,
             "#d8576b"
            ],
            [
             0.6666666666666666,
             "#ed7953"
            ],
            [
             0.7777777777777778,
             "#fb9f3a"
            ],
            [
             0.8888888888888888,
             "#fdca26"
            ],
            [
             1,
             "#f0f921"
            ]
           ]
          },
          "colorway": [
           "#636efa",
           "#EF553B",
           "#00cc96",
           "#ab63fa",
           "#FFA15A",
           "#19d3f3",
           "#FF6692",
           "#B6E880",
           "#FF97FF",
           "#FECB52"
          ],
          "font": {
           "color": "#2a3f5f"
          },
          "geo": {
           "bgcolor": "white",
           "lakecolor": "white",
           "landcolor": "#E5ECF6",
           "showlakes": true,
           "showland": true,
           "subunitcolor": "white"
          },
          "hoverlabel": {
           "align": "left"
          },
          "hovermode": "closest",
          "mapbox": {
           "style": "light"
          },
          "paper_bgcolor": "white",
          "plot_bgcolor": "#E5ECF6",
          "polar": {
           "angularaxis": {
            "gridcolor": "white",
            "linecolor": "white",
            "ticks": ""
           },
           "bgcolor": "#E5ECF6",
           "radialaxis": {
            "gridcolor": "white",
            "linecolor": "white",
            "ticks": ""
           }
          },
          "scene": {
           "xaxis": {
            "backgroundcolor": "#E5ECF6",
            "gridcolor": "white",
            "gridwidth": 2,
            "linecolor": "white",
            "showbackground": true,
            "ticks": "",
            "zerolinecolor": "white"
           },
           "yaxis": {
            "backgroundcolor": "#E5ECF6",
            "gridcolor": "white",
            "gridwidth": 2,
            "linecolor": "white",
            "showbackground": true,
            "ticks": "",
            "zerolinecolor": "white"
           },
           "zaxis": {
            "backgroundcolor": "#E5ECF6",
            "gridcolor": "white",
            "gridwidth": 2,
            "linecolor": "white",
            "showbackground": true,
            "ticks": "",
            "zerolinecolor": "white"
           }
          },
          "shapedefaults": {
           "line": {
            "color": "#2a3f5f"
           }
          },
          "ternary": {
           "aaxis": {
            "gridcolor": "white",
            "linecolor": "white",
            "ticks": ""
           },
           "baxis": {
            "gridcolor": "white",
            "linecolor": "white",
            "ticks": ""
           },
           "bgcolor": "#E5ECF6",
           "caxis": {
            "gridcolor": "white",
            "linecolor": "white",
            "ticks": ""
           }
          },
          "title": {
           "x": 0.05
          },
          "xaxis": {
           "automargin": true,
           "gridcolor": "white",
           "linecolor": "white",
           "ticks": "",
           "title": {
            "standoff": 15
           },
           "zerolinecolor": "white",
           "zerolinewidth": 2
          },
          "yaxis": {
           "automargin": true,
           "gridcolor": "white",
           "linecolor": "white",
           "ticks": "",
           "title": {
            "standoff": 15
           },
           "zerolinecolor": "white",
           "zerolinewidth": 2
          }
         }
        },
        "xaxis": {
         "anchor": "y",
         "domain": [
          0,
          1
         ],
         "title": {
          "text": "x"
         }
        },
        "yaxis": {
         "anchor": "x",
         "domain": [
          0,
          1
         ],
         "title": {
          "text": "y"
         }
        }
       }
      },
      "text/html": [
       "<div>                            <div id=\"c0b61a04-d4d5-4b62-93e8-38926c95f1f0\" class=\"plotly-graph-div\" style=\"height:525px; width:100%;\"></div>            <script type=\"text/javascript\">                require([\"plotly\"], function(Plotly) {                    window.PLOTLYENV=window.PLOTLYENV || {};                                    if (document.getElementById(\"c0b61a04-d4d5-4b62-93e8-38926c95f1f0\")) {                    Plotly.newPlot(                        \"c0b61a04-d4d5-4b62-93e8-38926c95f1f0\",                        [{\"hovertemplate\": \"x=%{x}<br>y=%{y}<extra></extra>\", \"legendgroup\": \"\", \"marker\": {\"color\": \"#636efa\", \"symbol\": \"circle\"}, \"mode\": \"markers\", \"name\": \"\", \"orientation\": \"v\", \"showlegend\": false, \"type\": \"scatter\", \"x\": [\"2010-01-20T18:00:00\", \"2011-02-03T12:00:00\", \"2012-07-11T06:00:00\", \"2012-07-11T07:00:00\", \"2012-07-11T08:00:00\", \"2012-07-11T09:00:00\", \"2012-07-11T10:00:00\", \"2012-07-11T11:00:00\", \"2012-07-15T20:00:00\", \"2012-07-18T21:00:00\", \"2012-07-18T22:00:00\", \"2012-07-18T23:00:00\", \"2012-07-19T00:00:00\", \"2012-07-19T01:00:00\", \"2012-08-11T09:00:00\", \"2012-08-28T21:00:00\", \"2012-09-07T06:00:00\", \"2012-10-10T09:00:00\", \"2012-10-10T10:00:00\", \"2012-10-10T11:00:00\", \"2012-11-08T12:00:00\", \"2013-01-16T12:00:00\", \"2013-04-02T19:00:00\", \"2013-04-14T06:00:00\", \"2013-04-14T07:00:00\", \"2013-04-14T08:00:00\", \"2013-04-14T09:00:00\", \"2013-04-14T10:00:00\", \"2013-04-15T06:00:00\", \"2013-04-15T07:00:00\", \"2013-04-15T08:00:00\", \"2013-04-15T09:00:00\", \"2013-04-15T10:00:00\", \"2013-05-06T18:00:00\", \"2013-06-22T06:00:00\", \"2013-06-22T07:00:00\", \"2013-06-22T08:00:00\", \"2013-06-22T09:00:00\", \"2013-06-22T10:00:00\", \"2013-09-01T19:00:00\", \"2013-10-03T06:00:00\", \"2013-10-03T07:00:00\", \"2013-10-03T08:00:00\", \"2013-10-03T09:00:00\", \"2013-10-03T10:00:00\", \"2013-10-04T06:00:00\", \"2013-10-04T07:00:00\", \"2013-10-04T08:00:00\", \"2013-10-04T09:00:00\", \"2013-10-04T10:00:00\", \"2013-10-05T06:00:00\", \"2013-10-05T07:00:00\", \"2013-10-05T08:00:00\", \"2013-10-05T09:00:00\", \"2013-10-05T10:00:00\", \"2013-10-06T06:00:00\", \"2013-10-06T07:00:00\", \"2013-10-06T08:00:00\", \"2013-10-06T09:00:00\", \"2013-10-06T10:00:00\", \"2013-10-07T06:00:00\", \"2013-10-07T07:00:00\", \"2013-10-07T08:00:00\", \"2013-10-07T09:00:00\", \"2013-10-07T10:00:00\", \"2013-10-30T10:00:00\", \"2013-11-03T08:00:00\", \"2013-11-28T20:00:00\", \"2013-11-28T21:00:00\", \"2013-12-14T14:00:00\", \"2013-12-14T15:00:00\", \"2013-12-14T16:00:00\", \"2013-12-14T17:00:00\", \"2013-12-23T13:00:00\", \"2016-01-12T08:00:00\", \"2016-10-28T07:00:00\", \"2016-12-18T07:00:00\", \"2016-12-18T08:00:00\", \"2016-12-18T09:00:00\", \"2016-12-18T10:00:00\", \"2016-12-18T11:00:00\", \"2016-12-18T12:00:00\", \"2016-12-19T07:00:00\", \"2016-12-19T08:00:00\", \"2016-12-19T09:00:00\", \"2016-12-19T10:00:00\", \"2016-12-19T11:00:00\", \"2016-12-19T12:00:00\", \"2017-05-27T11:00:00\", \"2017-06-05T04:00:00\", \"2017-06-05T05:00:00\", \"2017-06-05T06:00:00\", \"2017-06-05T07:00:00\", \"2017-06-05T08:00:00\", \"2017-06-05T09:00:00\", \"2017-06-05T10:00:00\", \"2017-07-15T08:00:00\", \"2018-07-07T05:00:00\", \"2020-04-06T06:00:00\", \"2020-07-29T08:00:00\", \"2020-08-05T06:00:00\", \"2020-08-05T07:00:00\", \"2020-08-05T08:00:00\", \"2020-08-05T09:00:00\", \"2020-08-05T10:00:00\", \"2020-11-01T08:00:00\"], \"xaxis\": \"x\", \"y\": [1.0, 1.0, 1.0, 1.0, 1.0, 1.0, 1.0, 1.0, 1.0, 1.0, 1.0, 1.0, 1.0, 1.0, 1.0, 1.0, 1.0, 1.0, 1.0, 1.0, 1.0, 1.0, 1.0, 1.0, 1.0, 1.0, 1.0, 1.0, 1.0, 1.0, 1.0, 1.0, 1.0, 1.0, 1.0, 1.0, 1.0, 1.0, 1.0, 1.0, 1.0, 1.0, 1.0, 1.0, 1.0, 1.0, 1.0, 1.0, 1.0, 1.0, 1.0, 1.0, 1.0, 1.0, 1.0, 1.0, 1.0, 1.0, 1.0, 1.0, 1.0, 1.0, 1.0, 1.0, 1.0, 1.0, 1.0, 1.0, 1.0, 1.0, 1.0, 1.0, 1.0, 1.0, 1.0, 1.0, 1.0, 1.0, 1.0, 1.0, 1.0, 1.0, 1.0, 1.0, 1.0, 1.0, 1.0, 1.0, 1.0, 1.0, 1.0, 1.0, 1.0, 1.0, 1.0, 1.0, 1.0, 1.0, 1.0, 1.0, 1.0, 1.0, 1.0, 1.0, 1.0, 1.0], \"yaxis\": \"y\"}],                        {\"legend\": {\"tracegroupgap\": 0}, \"margin\": {\"t\": 60}, \"template\": {\"data\": {\"bar\": [{\"error_x\": {\"color\": \"#2a3f5f\"}, \"error_y\": {\"color\": \"#2a3f5f\"}, \"marker\": {\"line\": {\"color\": \"#E5ECF6\", \"width\": 0.5}}, \"type\": \"bar\"}], \"barpolar\": [{\"marker\": {\"line\": {\"color\": \"#E5ECF6\", \"width\": 0.5}}, \"type\": \"barpolar\"}], \"carpet\": [{\"aaxis\": {\"endlinecolor\": \"#2a3f5f\", \"gridcolor\": \"white\", \"linecolor\": \"white\", \"minorgridcolor\": \"white\", \"startlinecolor\": \"#2a3f5f\"}, \"baxis\": {\"endlinecolor\": \"#2a3f5f\", \"gridcolor\": \"white\", \"linecolor\": \"white\", \"minorgridcolor\": \"white\", \"startlinecolor\": \"#2a3f5f\"}, \"type\": \"carpet\"}], \"choropleth\": [{\"colorbar\": {\"outlinewidth\": 0, \"ticks\": \"\"}, \"type\": \"choropleth\"}], \"contour\": [{\"colorbar\": {\"outlinewidth\": 0, \"ticks\": \"\"}, \"colorscale\": [[0.0, \"#0d0887\"], [0.1111111111111111, \"#46039f\"], [0.2222222222222222, \"#7201a8\"], [0.3333333333333333, \"#9c179e\"], [0.4444444444444444, \"#bd3786\"], [0.5555555555555556, \"#d8576b\"], [0.6666666666666666, \"#ed7953\"], [0.7777777777777778, \"#fb9f3a\"], [0.8888888888888888, \"#fdca26\"], [1.0, \"#f0f921\"]], \"type\": \"contour\"}], \"contourcarpet\": [{\"colorbar\": {\"outlinewidth\": 0, \"ticks\": \"\"}, \"type\": \"contourcarpet\"}], \"heatmap\": [{\"colorbar\": {\"outlinewidth\": 0, \"ticks\": \"\"}, \"colorscale\": [[0.0, \"#0d0887\"], [0.1111111111111111, \"#46039f\"], [0.2222222222222222, \"#7201a8\"], [0.3333333333333333, \"#9c179e\"], [0.4444444444444444, \"#bd3786\"], [0.5555555555555556, \"#d8576b\"], [0.6666666666666666, \"#ed7953\"], [0.7777777777777778, \"#fb9f3a\"], [0.8888888888888888, \"#fdca26\"], [1.0, \"#f0f921\"]], \"type\": \"heatmap\"}], \"heatmapgl\": [{\"colorbar\": {\"outlinewidth\": 0, \"ticks\": \"\"}, \"colorscale\": [[0.0, \"#0d0887\"], [0.1111111111111111, \"#46039f\"], [0.2222222222222222, \"#7201a8\"], [0.3333333333333333, \"#9c179e\"], [0.4444444444444444, \"#bd3786\"], [0.5555555555555556, \"#d8576b\"], [0.6666666666666666, \"#ed7953\"], [0.7777777777777778, \"#fb9f3a\"], [0.8888888888888888, \"#fdca26\"], [1.0, \"#f0f921\"]], \"type\": \"heatmapgl\"}], \"histogram\": [{\"marker\": {\"colorbar\": {\"outlinewidth\": 0, \"ticks\": \"\"}}, \"type\": \"histogram\"}], \"histogram2d\": [{\"colorbar\": {\"outlinewidth\": 0, \"ticks\": \"\"}, \"colorscale\": [[0.0, \"#0d0887\"], [0.1111111111111111, \"#46039f\"], [0.2222222222222222, \"#7201a8\"], [0.3333333333333333, \"#9c179e\"], [0.4444444444444444, \"#bd3786\"], [0.5555555555555556, \"#d8576b\"], [0.6666666666666666, \"#ed7953\"], [0.7777777777777778, \"#fb9f3a\"], [0.8888888888888888, \"#fdca26\"], [1.0, \"#f0f921\"]], \"type\": \"histogram2d\"}], \"histogram2dcontour\": [{\"colorbar\": {\"outlinewidth\": 0, \"ticks\": \"\"}, \"colorscale\": [[0.0, \"#0d0887\"], [0.1111111111111111, \"#46039f\"], [0.2222222222222222, \"#7201a8\"], [0.3333333333333333, \"#9c179e\"], [0.4444444444444444, \"#bd3786\"], [0.5555555555555556, \"#d8576b\"], [0.6666666666666666, \"#ed7953\"], [0.7777777777777778, \"#fb9f3a\"], [0.8888888888888888, \"#fdca26\"], [1.0, \"#f0f921\"]], \"type\": \"histogram2dcontour\"}], \"mesh3d\": [{\"colorbar\": {\"outlinewidth\": 0, \"ticks\": \"\"}, \"type\": \"mesh3d\"}], \"parcoords\": [{\"line\": {\"colorbar\": {\"outlinewidth\": 0, \"ticks\": \"\"}}, \"type\": \"parcoords\"}], \"pie\": [{\"automargin\": true, \"type\": \"pie\"}], \"scatter\": [{\"marker\": {\"colorbar\": {\"outlinewidth\": 0, \"ticks\": \"\"}}, \"type\": \"scatter\"}], \"scatter3d\": [{\"line\": {\"colorbar\": {\"outlinewidth\": 0, \"ticks\": \"\"}}, \"marker\": {\"colorbar\": {\"outlinewidth\": 0, \"ticks\": \"\"}}, \"type\": \"scatter3d\"}], \"scattercarpet\": [{\"marker\": {\"colorbar\": {\"outlinewidth\": 0, \"ticks\": \"\"}}, \"type\": \"scattercarpet\"}], \"scattergeo\": [{\"marker\": {\"colorbar\": {\"outlinewidth\": 0, \"ticks\": \"\"}}, \"type\": \"scattergeo\"}], \"scattergl\": [{\"marker\": {\"colorbar\": {\"outlinewidth\": 0, \"ticks\": \"\"}}, \"type\": \"scattergl\"}], \"scattermapbox\": [{\"marker\": {\"colorbar\": {\"outlinewidth\": 0, \"ticks\": \"\"}}, \"type\": \"scattermapbox\"}], \"scatterpolar\": [{\"marker\": {\"colorbar\": {\"outlinewidth\": 0, \"ticks\": \"\"}}, \"type\": \"scatterpolar\"}], \"scatterpolargl\": [{\"marker\": {\"colorbar\": {\"outlinewidth\": 0, \"ticks\": \"\"}}, \"type\": \"scatterpolargl\"}], \"scatterternary\": [{\"marker\": {\"colorbar\": {\"outlinewidth\": 0, \"ticks\": \"\"}}, \"type\": \"scatterternary\"}], \"surface\": [{\"colorbar\": {\"outlinewidth\": 0, \"ticks\": \"\"}, \"colorscale\": [[0.0, \"#0d0887\"], [0.1111111111111111, \"#46039f\"], [0.2222222222222222, \"#7201a8\"], [0.3333333333333333, \"#9c179e\"], [0.4444444444444444, \"#bd3786\"], [0.5555555555555556, \"#d8576b\"], [0.6666666666666666, \"#ed7953\"], [0.7777777777777778, \"#fb9f3a\"], [0.8888888888888888, \"#fdca26\"], [1.0, \"#f0f921\"]], \"type\": \"surface\"}], \"table\": [{\"cells\": {\"fill\": {\"color\": \"#EBF0F8\"}, \"line\": {\"color\": \"white\"}}, \"header\": {\"fill\": {\"color\": \"#C8D4E3\"}, \"line\": {\"color\": \"white\"}}, \"type\": \"table\"}]}, \"layout\": {\"annotationdefaults\": {\"arrowcolor\": \"#2a3f5f\", \"arrowhead\": 0, \"arrowwidth\": 1}, \"coloraxis\": {\"colorbar\": {\"outlinewidth\": 0, \"ticks\": \"\"}}, \"colorscale\": {\"diverging\": [[0, \"#8e0152\"], [0.1, \"#c51b7d\"], [0.2, \"#de77ae\"], [0.3, \"#f1b6da\"], [0.4, \"#fde0ef\"], [0.5, \"#f7f7f7\"], [0.6, \"#e6f5d0\"], [0.7, \"#b8e186\"], [0.8, \"#7fbc41\"], [0.9, \"#4d9221\"], [1, \"#276419\"]], \"sequential\": [[0.0, \"#0d0887\"], [0.1111111111111111, \"#46039f\"], [0.2222222222222222, \"#7201a8\"], [0.3333333333333333, \"#9c179e\"], [0.4444444444444444, \"#bd3786\"], [0.5555555555555556, \"#d8576b\"], [0.6666666666666666, \"#ed7953\"], [0.7777777777777778, \"#fb9f3a\"], [0.8888888888888888, \"#fdca26\"], [1.0, \"#f0f921\"]], \"sequentialminus\": [[0.0, \"#0d0887\"], [0.1111111111111111, \"#46039f\"], [0.2222222222222222, \"#7201a8\"], [0.3333333333333333, \"#9c179e\"], [0.4444444444444444, \"#bd3786\"], [0.5555555555555556, \"#d8576b\"], [0.6666666666666666, \"#ed7953\"], [0.7777777777777778, \"#fb9f3a\"], [0.8888888888888888, \"#fdca26\"], [1.0, \"#f0f921\"]]}, \"colorway\": [\"#636efa\", \"#EF553B\", \"#00cc96\", \"#ab63fa\", \"#FFA15A\", \"#19d3f3\", \"#FF6692\", \"#B6E880\", \"#FF97FF\", \"#FECB52\"], \"font\": {\"color\": \"#2a3f5f\"}, \"geo\": {\"bgcolor\": \"white\", \"lakecolor\": \"white\", \"landcolor\": \"#E5ECF6\", \"showlakes\": true, \"showland\": true, \"subunitcolor\": \"white\"}, \"hoverlabel\": {\"align\": \"left\"}, \"hovermode\": \"closest\", \"mapbox\": {\"style\": \"light\"}, \"paper_bgcolor\": \"white\", \"plot_bgcolor\": \"#E5ECF6\", \"polar\": {\"angularaxis\": {\"gridcolor\": \"white\", \"linecolor\": \"white\", \"ticks\": \"\"}, \"bgcolor\": \"#E5ECF6\", \"radialaxis\": {\"gridcolor\": \"white\", \"linecolor\": \"white\", \"ticks\": \"\"}}, \"scene\": {\"xaxis\": {\"backgroundcolor\": \"#E5ECF6\", \"gridcolor\": \"white\", \"gridwidth\": 2, \"linecolor\": \"white\", \"showbackground\": true, \"ticks\": \"\", \"zerolinecolor\": \"white\"}, \"yaxis\": {\"backgroundcolor\": \"#E5ECF6\", \"gridcolor\": \"white\", \"gridwidth\": 2, \"linecolor\": \"white\", \"showbackground\": true, \"ticks\": \"\", \"zerolinecolor\": \"white\"}, \"zaxis\": {\"backgroundcolor\": \"#E5ECF6\", \"gridcolor\": \"white\", \"gridwidth\": 2, \"linecolor\": \"white\", \"showbackground\": true, \"ticks\": \"\", \"zerolinecolor\": \"white\"}}, \"shapedefaults\": {\"line\": {\"color\": \"#2a3f5f\"}}, \"ternary\": {\"aaxis\": {\"gridcolor\": \"white\", \"linecolor\": \"white\", \"ticks\": \"\"}, \"baxis\": {\"gridcolor\": \"white\", \"linecolor\": \"white\", \"ticks\": \"\"}, \"bgcolor\": \"#E5ECF6\", \"caxis\": {\"gridcolor\": \"white\", \"linecolor\": \"white\", \"ticks\": \"\"}}, \"title\": {\"x\": 0.05}, \"xaxis\": {\"automargin\": true, \"gridcolor\": \"white\", \"linecolor\": \"white\", \"ticks\": \"\", \"title\": {\"standoff\": 15}, \"zerolinecolor\": \"white\", \"zerolinewidth\": 2}, \"yaxis\": {\"automargin\": true, \"gridcolor\": \"white\", \"linecolor\": \"white\", \"ticks\": \"\", \"title\": {\"standoff\": 15}, \"zerolinecolor\": \"white\", \"zerolinewidth\": 2}}}, \"xaxis\": {\"anchor\": \"y\", \"domain\": [0.0, 1.0], \"title\": {\"text\": \"x\"}}, \"yaxis\": {\"anchor\": \"x\", \"domain\": [0.0, 1.0], \"title\": {\"text\": \"y\"}}},                        {\"responsive\": true}                    ).then(function(){\n",
       "                            \n",
       "var gd = document.getElementById('c0b61a04-d4d5-4b62-93e8-38926c95f1f0');\n",
       "var x = new MutationObserver(function (mutations, observer) {{\n",
       "        var display = window.getComputedStyle(gd).display;\n",
       "        if (!display || display === 'none') {{\n",
       "            console.log([gd, 'removed!']);\n",
       "            Plotly.purge(gd);\n",
       "            observer.disconnect();\n",
       "        }}\n",
       "}});\n",
       "\n",
       "// Listen for the removal of the full notebook cells\n",
       "var notebookContainer = gd.closest('#notebook-container');\n",
       "if (notebookContainer) {{\n",
       "    x.observe(notebookContainer, {childList: true});\n",
       "}}\n",
       "\n",
       "// Listen for the clearing of the current output cell\n",
       "var outputEl = gd.closest('.output');\n",
       "if (outputEl) {{\n",
       "    x.observe(outputEl, {childList: true});\n",
       "}}\n",
       "\n",
       "                        })                };                });            </script>        </div>"
      ]
     },
     "metadata": {},
     "output_type": "display_data"
    }
   ],
   "source": [
    "times_gaps = (lb_na - lb_na.shift(1)) / pd.Timedelta(hours=1)\n",
    "px.scatter(x = lb_na[times_gaps == 1],y = times_gaps[times_gaps == 1])"
   ]
  },
  {
   "cell_type": "code",
   "execution_count": null,
   "metadata": {},
   "outputs": [],
   "source": []
  },
  {
   "cell_type": "code",
   "execution_count": 95,
   "metadata": {},
   "outputs": [],
   "source": [
    "# Reading in population data\n",
    "pop_low_growth = pd.read_csv(\"original data/2020-2046-05-census-divisions-population-projections-low.csv\",\n",
    "                            dtype={'Year':int, 'Region': str, 'Sex': str, 'Age': str,'Pop': int })\n",
    "\n",
    "pop_med_growth = pd.read_csv(\"original data/2020-2046-07-census-divisions-population-projections-medium.csv\",\n",
    "                             dtype={'Year':int, 'Region': str, 'Sex': str, 'Age': str,'Pop': int })\n",
    "\n",
    "pop_high_growth = pd.read_csv(\"original data/2020-2046-09-census-divisions-population-projections-high.csv\",\n",
    "                             dtype={'Year':int, 'Region': str, 'Sex': str, 'Age': str,'Pop': int })"
   ]
  },
  {
   "cell_type": "code",
   "execution_count": 105,
   "metadata": {},
   "outputs": [],
   "source": [
    "pop_full = pd.DataFrame(data = {\"Year\": pop_low_growth[\"Year\"],\n",
    "                               \"Region\": pop_low_growth[\"Region\"],\n",
    "                                \"Sex\": pop_low_growth[\"Sex\"],\n",
    "                                \"Age\": pop_low_growth[\"Age\"],\n",
    "                               \"pop_low\": pop_low_growth[\"Pop\"],\n",
    "                               \"pop_medium\": pop_med_growth[\"Pop\"],\n",
    "                                \"pop_high\": pop_high_growth[\"Pop\"]\n",
    "                               })\n",
    "\n",
    "cd_divisions = [\"2\",\"6\",\"11\",\"16\"]\n",
    "\n",
    "def base_filter(df):\n",
    "    period = (df[\"Year\"] >= 2010)\n",
    "    in_4_metros = df[\"Region\"].apply(lambda x: x in cd_divisions)\n",
    "    conditions = period & in_4_metros & (df[\"Sex\"] == \"3\") & (df[\"Age\"] ==\"Total\")\n",
    "              \n",
    "    return df[conditions][df.columns.difference([\"Sex\",\"Age\"])]\n",
    "\n",
    "pop_metros =  base_filter(pop_full)\n"
   ]
  },
  {
   "cell_type": "code",
   "execution_count": 106,
   "metadata": {},
   "outputs": [
    {
     "data": {
      "text/html": [
       "<div>\n",
       "<style scoped>\n",
       "    .dataframe tbody tr th:only-of-type {\n",
       "        vertical-align: middle;\n",
       "    }\n",
       "\n",
       "    .dataframe tbody tr th {\n",
       "        vertical-align: top;\n",
       "    }\n",
       "\n",
       "    .dataframe thead th {\n",
       "        text-align: right;\n",
       "    }\n",
       "</style>\n",
       "<table border=\"1\" class=\"dataframe\">\n",
       "  <thead>\n",
       "    <tr style=\"text-align: right;\">\n",
       "      <th></th>\n",
       "      <th>Region</th>\n",
       "      <th>Year</th>\n",
       "      <th>pop_high</th>\n",
       "      <th>pop_low</th>\n",
       "      <th>pop_medium</th>\n",
       "    </tr>\n",
       "  </thead>\n",
       "  <tbody>\n",
       "    <tr>\n",
       "      <td>34684</td>\n",
       "      <td>2</td>\n",
       "      <td>2010</td>\n",
       "      <td>160510</td>\n",
       "      <td>160510</td>\n",
       "      <td>160510</td>\n",
       "    </tr>\n",
       "    <tr>\n",
       "      <td>34776</td>\n",
       "      <td>2</td>\n",
       "      <td>2011</td>\n",
       "      <td>162039</td>\n",
       "      <td>162039</td>\n",
       "      <td>162039</td>\n",
       "    </tr>\n",
       "    <tr>\n",
       "      <td>34868</td>\n",
       "      <td>2</td>\n",
       "      <td>2012</td>\n",
       "      <td>164123</td>\n",
       "      <td>164123</td>\n",
       "      <td>164123</td>\n",
       "    </tr>\n",
       "    <tr>\n",
       "      <td>34960</td>\n",
       "      <td>2</td>\n",
       "      <td>2013</td>\n",
       "      <td>166601</td>\n",
       "      <td>166601</td>\n",
       "      <td>166601</td>\n",
       "    </tr>\n",
       "    <tr>\n",
       "      <td>35052</td>\n",
       "      <td>2</td>\n",
       "      <td>2014</td>\n",
       "      <td>169720</td>\n",
       "      <td>169720</td>\n",
       "      <td>169720</td>\n",
       "    </tr>\n",
       "  </tbody>\n",
       "</table>\n",
       "</div>"
      ],
      "text/plain": [
       "      Region  Year  pop_high  pop_low  pop_medium\n",
       "34684      2  2010    160510   160510      160510\n",
       "34776      2  2011    162039   162039      162039\n",
       "34868      2  2012    164123   164123      164123\n",
       "34960      2  2013    166601   166601      166601\n",
       "35052      2  2014    169720   169720      169720"
      ]
     },
     "execution_count": 106,
     "metadata": {},
     "output_type": "execute_result"
    }
   ],
   "source": [
    "pop_metros.head()"
   ]
  },
  {
   "cell_type": "code",
   "execution_count": null,
   "metadata": {},
   "outputs": [],
   "source": []
  }
 ],
 "metadata": {
  "kernelspec": {
   "display_name": "Python 3",
   "language": "python",
   "name": "python3"
  },
  "language_info": {
   "codemirror_mode": {
    "name": "ipython",
    "version": 3
   },
   "file_extension": ".py",
   "mimetype": "text/x-python",
   "name": "python",
   "nbconvert_exporter": "python",
   "pygments_lexer": "ipython3",
   "version": "3.7.4"
  }
 },
 "nbformat": 4,
 "nbformat_minor": 4
}
